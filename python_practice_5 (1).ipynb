{
  "nbformat": 4,
  "nbformat_minor": 0,
  "metadata": {
    "colab": {
      "provenance": []
    },
    "kernelspec": {
      "name": "python3",
      "display_name": "Python 3"
    },
    "language_info": {
      "name": "python"
    }
  },
  "cells": [
    {
      "cell_type": "markdown",
      "source": [
        "# I. OOP"
      ],
      "metadata": {
        "id": "5qV_sehzFCTp"
      }
    },
    {
      "cell_type": "markdown",
      "source": [
        "1. (6б). Створіть клас Animal, додайте три атрибути, один з яких має значення за замовчуванням та два методи на свій розсуд."
      ],
      "metadata": {
        "id": "tx_U_hOALyfg"
      }
    },
    {
      "cell_type": "code",
      "source": [
        "class Animal:\n",
        "  def __init__(self, name, color, hunger = False):\n",
        "    self.name = name\n",
        "    self.color = color\n",
        "    self.hunger = hunger\n",
        "\n",
        "  def feed_animal(self):\n",
        "    if self.hunger:\n",
        "      print(f\"{self.name} is hungry!\")\n",
        "    else:\n",
        "      print(f\"{self.name} is not hungry\")\n",
        "\n",
        "  def change_color(self, newColor):\n",
        "    self.color = newColor\n",
        "    print(\"Color changed. New color is {self.color}.\")\n",
        "\n"
      ],
      "metadata": {
        "id": "-Vf895KaL88N"
      },
      "execution_count": 15,
      "outputs": []
    },
    {
      "cell_type": "markdown",
      "source": [
        "2. (2б). Створіть два обʼєкти цього класу, де один з обʼєктів створюється із дефолтним значенням атрибуту. На одному обʼєкті отримайте значення його атрибуту, а на іншому викличте один з його методів."
      ],
      "metadata": {
        "id": "X_UlOMB0L93w"
      }
    },
    {
      "cell_type": "code",
      "source": [
        "animal1 = Animal(\"Bob\", \"black\")\n",
        "print(animal1.hunger)\n",
        "animal2 = Animal(\"Pes Patron\", \"brown\", True)\n",
        "animal2.feed_animal()"
      ],
      "metadata": {
        "id": "7gBu0ESOMCpG",
        "colab": {
          "base_uri": "https://localhost:8080/"
        },
        "outputId": "aca5aabd-391e-42b7-81ec-ff52cb1218f7"
      },
      "execution_count": 18,
      "outputs": [
        {
          "output_type": "stream",
          "name": "stdout",
          "text": [
            "False\n",
            "Pes Patron is hungry!\n"
          ]
        }
      ]
    },
    {
      "cell_type": "markdown",
      "source": [
        "3. (5б). Створіть клас, де атрибути мають різні рівні доступу. Спробуйте отримати їхні значення та опишіть результати."
      ],
      "metadata": {
        "id": "HoqSCZt1MHn5"
      }
    },
    {
      "cell_type": "code",
      "source": [
        "class Person:\n",
        "  def __init__(self):\n",
        "    self.name = \"Oleksiy\"\n",
        "    self._phoneNumber = 12345\n",
        "    self.__passportNumber = 666\n",
        "\n",
        "boy = Person()\n",
        "print(boy.name)\n",
        "print(boy._phoneNumber)\n",
        "print(boy.__passportNumber)"
      ],
      "metadata": {
        "id": "r9b3vJxBMSPV",
        "colab": {
          "base_uri": "https://localhost:8080/"
        },
        "outputId": "03269673-3d85-4e4b-c6fa-ce63604a251f"
      },
      "execution_count": 23,
      "outputs": [
        {
          "output_type": "stream",
          "name": "stdout",
          "text": [
            "Oleksiy\n",
            "12345\n"
          ]
        }
      ]
    },
    {
      "cell_type": "markdown",
      "source": [
        "Вдалося отримати результати з полів public, protected, однак поле private є недоступним ззовні класу, тому значення з нього отримати не вийшло, і програма видала помилку, що такого значення не існує (AttributeError)"
      ],
      "metadata": {
        "id": "rMMCyxOhl6Z-"
      }
    },
    {
      "cell_type": "markdown",
      "source": [
        "4. (7б). Як ви розумієте термін self? Для чого використовується метод __init __?"
      ],
      "metadata": {
        "id": "5op2m2vgMSkZ"
      }
    },
    {
      "cell_type": "markdown",
      "source": [
        "Термін self використовується для того, щоб звертатись до певного створеного екземпляру класу та його полів (атрибутів). А метод init є по факту конструктором, і в цьому методі ініціалізуються значення атрибутів об'єкту."
      ],
      "metadata": {
        "id": "DyiPqNRvMasx"
      }
    },
    {
      "cell_type": "markdown",
      "source": [
        "5. (9б). Створіть клас Фігура без атрибутів, з методом get_area для отримання площі фігури, що повертає 0 та __add __, який приймає self та other в якості аргументів, а повертає суму площин фігур self та other."
      ],
      "metadata": {
        "id": "-6X8EGfjMd2y"
      }
    },
    {
      "cell_type": "code",
      "source": [
        "class Figure:\n",
        "  def get_area(self):\n",
        "    return 0\n",
        "\n",
        "  def __add__(self, other):\n",
        "    return self.get_area() + other.get_area()"
      ],
      "metadata": {
        "id": "4rvO_wYUMaEr"
      },
      "execution_count": 2,
      "outputs": []
    },
    {
      "cell_type": "markdown",
      "source": [
        "6. (11б). Створіть 2 дочірніх класи від Фігури: Трикутник та Коло, які мають атрибути, необхідні для розрахунку площин. Визначте метод get_area в кожному з них так, щоби вони розраховували площу в залежності від формули для кожного типу фігури. Створіть обʼєкт класу Трикутник та обʼєкт класу Коло. Виконайте операцію суми за допомогою оператора + між ними."
      ],
      "metadata": {
        "id": "SFcKnnv5Mo_z"
      }
    },
    {
      "cell_type": "code",
      "source": [
        "import math\n",
        "class Triangle(Figure):\n",
        "  def __init__(self, sideA, sideB, sideC):\n",
        "    self.sideA= sideA\n",
        "    self.sideB = sideB\n",
        "    self.sideC = sideC\n",
        "\n",
        "  def get_area(self):\n",
        "    half_perimeter = (self.sideA + self.sideB + self.sideC)/2\n",
        "    return math.sqrt(half_perimeter * (half_perimeter - self.sideA) * (half_perimeter - self.sideB) * (half_perimeter - self.sideC))\n",
        "\n",
        "\n",
        "class Circle(Figure):\n",
        "  def __init__(self, radius):\n",
        "    self.radius = radius\n",
        "\n",
        "  def get_area(self):\n",
        "    return math.pi * math.pow(self.radius, 2)\n",
        "\n",
        "triangle1 = Triangle(4, 13, 15)\n",
        "circle1 = Circle(2)\n",
        "print(triangle1.get_area(),\"+\", circle1.get_area())\n",
        "print(triangle1 + circle1)"
      ],
      "metadata": {
        "id": "H3GVNr69Muf3",
        "colab": {
          "base_uri": "https://localhost:8080/"
        },
        "outputId": "b2434ae2-55d4-497e-b1a0-abaa0eb85f0b"
      },
      "execution_count": 13,
      "outputs": [
        {
          "output_type": "stream",
          "name": "stdout",
          "text": [
            "24.0 + 12.566370614359172\n",
            "36.56637061435917\n"
          ]
        }
      ]
    },
    {
      "cell_type": "markdown",
      "source": [
        "7. (3б). Продемонструйте різницю між isinstance та issubclass."
      ],
      "metadata": {
        "id": "HCvR206YMvLK"
      }
    },
    {
      "cell_type": "code",
      "source": [
        "class RadioheadAlbums:\n",
        "  pass\n",
        "\n",
        "class InRainbows(RadioheadAlbums):\n",
        "  def __init__(self, releaseYear):\n",
        "    self.releaseYear = releaseYear\n",
        "\n",
        "videotape = InRainbows(2007)\n",
        "print(issubclass(InRainbows, RadioheadAlbums))\n",
        "print(isinstance(videotape, InRainbows))"
      ],
      "metadata": {
        "id": "L_V1bBvDM0GN",
        "colab": {
          "base_uri": "https://localhost:8080/"
        },
        "outputId": "e7520d0d-0611-4d30-e4bd-d3722fa8826a"
      },
      "execution_count": 21,
      "outputs": [
        {
          "output_type": "stream",
          "name": "stdout",
          "text": [
            "True\n",
            "True\n"
          ]
        }
      ]
    },
    {
      "cell_type": "markdown",
      "source": [
        "В цьому прикладі я створила клас RadioheadAlbums та дочірній від нього клас InRainbows (назва альбому). Метод issubclass перевірив, чи є InRainbows підкласом для RadioheadAlbums і повернув True. Метод isinstance перевіряє чи належить певний об'єкт класу, як наприклад videotape є об'єктом класу InRainbows, відповідно повернуло також True."
      ],
      "metadata": {
        "id": "SV3W5Ch8tavx"
      }
    },
    {
      "cell_type": "markdown",
      "source": [
        "8. (13б). Створіть клас BankAccount з приватними атрибутами balance та account_number. Реалізуйте методи поповнення та зняття коштів, забезпечивши належну інкапсуляцію. Підказка: використовуйте декоратори property та setter."
      ],
      "metadata": {
        "id": "jjsaBZ-iM0Qq"
      }
    },
    {
      "cell_type": "code",
      "source": [
        "class BankAccount:\n",
        "  def __init__ (self, balance, account_number):\n",
        "    self._balance = balance\n",
        "    self._account_number = account_number\n",
        "\n",
        "  @property\n",
        "  def balance(self):\n",
        "    return self._balance\n",
        "\n",
        "  @property\n",
        "  def account_number(self):\n",
        "    return self._account_number\n",
        "\n",
        "  @balance.setter\n",
        "  def balance(self, newAmount):\n",
        "    self._balance = newAmount\n",
        "\n",
        "  def put_money(self, money):\n",
        "    if money >= 0:\n",
        "     self._balance += money\n",
        "    else:\n",
        "      print(\"Wrong value\")\n",
        "\n",
        "  def pay_money(self, money):\n",
        "    if money <= self._balance:\n",
        "      self._balance -= money\n",
        "    else:\n",
        "      print(\"You do not have enough money\")\n"
      ],
      "metadata": {
        "id": "xCvZ7lh8M7YA"
      },
      "execution_count": 24,
      "outputs": []
    },
    {
      "cell_type": "markdown",
      "source": [
        "9. (11б). Створіть клас Library, який містить список об'єктів типу Book. Реалізуйте методи для додавання книги, видалення книги та відображення списку книг."
      ],
      "metadata": {
        "id": "tIzL2SJTM8ft"
      }
    },
    {
      "cell_type": "code",
      "source": [
        "class Book:\n",
        "    def __init__(self, title, author):\n",
        "        self.title = title\n",
        "        self.author = author\n",
        "\n",
        "class Library:\n",
        "    def __init__(self):\n",
        "        self.booklist = []\n",
        "\n",
        "    def addBook(self, book):\n",
        "        self.booklist.append(book)\n",
        "\n",
        "    def deleteBook(self, title, author):\n",
        "      isBook = True\n",
        "      for book in self.booklist:\n",
        "          if book.title == title and book.author == author:\n",
        "              self.booklist.remove(book)\n",
        "              break\n",
        "          else:\n",
        "            isBook = False\n",
        "      if isBook == False:\n",
        "       print(\"No such book found\")\n",
        "\n",
        "    def showBooks(self):\n",
        "        if self.booklist:\n",
        "            for book in self.booklist:\n",
        "                print(f\"{book.title} by {book.author}\")\n",
        "        else:\n",
        "            print(\"No books\")\n",
        "\n",
        "book1 = Book(\"Misery\", \"Stiven King\")\n",
        "book2 = Book(\"Don Kihot\", \"Bob Marley\")\n",
        "book3 = Book(\"Howl's castle\", \"Tom York\")\n",
        "library = Library()\n",
        "library.addBook(book1)\n",
        "library.addBook(book2)\n",
        "library.addBook(book3)\n",
        "\n",
        "library.showBooks()\n",
        "\n",
        "library.deleteBook(\"Misery\", \"Stiven King\")\n",
        "library.deleteBook(\"To Kill a Mockingbird\", \"Harper Lee\")\n",
        "\n",
        "library.showBooks()\n"
      ],
      "metadata": {
        "id": "HWxfJKLtNAUZ",
        "colab": {
          "base_uri": "https://localhost:8080/"
        },
        "outputId": "4a1ce3cb-64ef-4eb0-cd67-ddc626281d9c"
      },
      "execution_count": 43,
      "outputs": [
        {
          "output_type": "stream",
          "name": "stdout",
          "text": [
            "Misery by Stiven King\n",
            "Don Kihot by Bob Marley\n",
            "Howl's castle by Tom York\n",
            "No such book found\n",
            "Don Kihot by Bob Marley\n",
            "Howl's castle by Tom York\n"
          ]
        }
      ]
    },
    {
      "cell_type": "markdown",
      "source": [
        "10. (13б). Створіть клас Person з атрибутами name та age. Створіть ще один клас Employee з такими атрибутами, як department та salary. Створіть клас Manager, який успадковує обидва класи Person та Employee. Продемонструйте використання множинної спадковості, створивши обʼєкт класу Manager та отримавши mro для цього класу."
      ],
      "metadata": {
        "id": "lmV8pAwwNIqu"
      }
    },
    {
      "cell_type": "code",
      "source": [
        "class Person:\n",
        "  def __init__ (self, name, age):\n",
        "    self.name = name\n",
        "    self.age = age\n",
        "\n",
        "class Employee:\n",
        "  def __init__ (self, department, salary):\n",
        "    self.department = department\n",
        "    self.salary = salary\n",
        "\n",
        "class Manager(Person, Employee):\n",
        "  def __init__ (self, name, age, department, salary):\n",
        "    Person.__init__(self, name, age)\n",
        "    Employee.__init__(self, department, salary)\n",
        "\n",
        "manager1 = Manager(\"Sasha\", 19, \"Finance\", 900)\n",
        "print(\"mro:\", Manager.mro())\n"
      ],
      "metadata": {
        "id": "R49grKlWNPeN",
        "colab": {
          "base_uri": "https://localhost:8080/"
        },
        "outputId": "67cb14df-8aa9-47d2-f249-c797f1c8cbdb"
      },
      "execution_count": 46,
      "outputs": [
        {
          "output_type": "stream",
          "name": "stdout",
          "text": [
            "mro: [<class '__main__.Manager'>, <class '__main__.Person'>, <class '__main__.Employee'>, <class 'object'>]\n"
          ]
        }
      ]
    },
    {
      "cell_type": "markdown",
      "source": [
        "# II. Iterator"
      ],
      "metadata": {
        "id": "dIJyUiNBFG8G"
      }
    },
    {
      "cell_type": "markdown",
      "source": [
        "11. (4б). Визначте рядок(str) з 4ма різними за значенням символами. Створіть ітератор на основі цього рядка. Викличте 5 разів функцію next на ітераторі, 4ри перших з них огорніть у ф-цію print()."
      ],
      "metadata": {
        "id": "13vsm0NyKIzL"
      }
    },
    {
      "cell_type": "code",
      "source": [
        "string1 = \"vika\"\n",
        "iterator1 = iter(string1)\n",
        "print(next(iterator1))\n",
        "print(next(iterator1))\n",
        "print(next(iterator1))\n",
        "print(next(iterator1))\n",
        "next(iterator1)\n"
      ],
      "metadata": {
        "id": "81ntabAkKuz-",
        "colab": {
          "base_uri": "https://localhost:8080/",
          "height": 245
        },
        "outputId": "d11e84a4-04de-4f2f-8982-35df5c218e08"
      },
      "execution_count": 49,
      "outputs": [
        {
          "output_type": "stream",
          "name": "stdout",
          "text": [
            "v\n",
            "i\n",
            "k\n",
            "a\n"
          ]
        },
        {
          "output_type": "error",
          "ename": "StopIteration",
          "evalue": "",
          "traceback": [
            "\u001b[0;31m---------------------------------------------------------------------------\u001b[0m",
            "\u001b[0;31mStopIteration\u001b[0m                             Traceback (most recent call last)",
            "\u001b[0;32m<ipython-input-49-76bf6cb1dcbc>\u001b[0m in \u001b[0;36m<cell line: 7>\u001b[0;34m()\u001b[0m\n\u001b[1;32m      5\u001b[0m \u001b[0mprint\u001b[0m\u001b[0;34m(\u001b[0m\u001b[0mnext\u001b[0m\u001b[0;34m(\u001b[0m\u001b[0miterator1\u001b[0m\u001b[0;34m)\u001b[0m\u001b[0;34m)\u001b[0m\u001b[0;34m\u001b[0m\u001b[0;34m\u001b[0m\u001b[0m\n\u001b[1;32m      6\u001b[0m \u001b[0mprint\u001b[0m\u001b[0;34m(\u001b[0m\u001b[0mnext\u001b[0m\u001b[0;34m(\u001b[0m\u001b[0miterator1\u001b[0m\u001b[0;34m)\u001b[0m\u001b[0;34m)\u001b[0m\u001b[0;34m\u001b[0m\u001b[0;34m\u001b[0m\u001b[0m\n\u001b[0;32m----> 7\u001b[0;31m \u001b[0mprint\u001b[0m\u001b[0;34m(\u001b[0m\u001b[0mnext\u001b[0m\u001b[0;34m(\u001b[0m\u001b[0miterator1\u001b[0m\u001b[0;34m)\u001b[0m\u001b[0;34m)\u001b[0m\u001b[0;34m\u001b[0m\u001b[0;34m\u001b[0m\u001b[0m\n\u001b[0m",
            "\u001b[0;31mStopIteration\u001b[0m: "
          ]
        }
      ]
    },
    {
      "cell_type": "markdown",
      "source": [
        "А що якщо викликати цю ж функцію на рядку?"
      ],
      "metadata": {
        "id": "aekWHGXOLRsO"
      }
    },
    {
      "cell_type": "markdown",
      "source": [
        "Рядки не є ітераторами, тому буде помилка"
      ],
      "metadata": {
        "id": "3f2jLVNZ-9Xk"
      }
    },
    {
      "cell_type": "code",
      "source": [
        "next(string1)"
      ],
      "metadata": {
        "id": "mxATGsErLV1i",
        "colab": {
          "base_uri": "https://localhost:8080/",
          "height": 141
        },
        "outputId": "cb6a7c88-8db3-43c6-9923-fdbd248c0a17"
      },
      "execution_count": 50,
      "outputs": [
        {
          "output_type": "error",
          "ename": "TypeError",
          "evalue": "'str' object is not an iterator",
          "traceback": [
            "\u001b[0;31m---------------------------------------------------------------------------\u001b[0m",
            "\u001b[0;31mTypeError\u001b[0m                                 Traceback (most recent call last)",
            "\u001b[0;32m<ipython-input-50-e62d2df1b215>\u001b[0m in \u001b[0;36m<cell line: 1>\u001b[0;34m()\u001b[0m\n\u001b[0;32m----> 1\u001b[0;31m \u001b[0mnext\u001b[0m\u001b[0;34m(\u001b[0m\u001b[0mstring1\u001b[0m\u001b[0;34m)\u001b[0m\u001b[0;34m\u001b[0m\u001b[0;34m\u001b[0m\u001b[0m\n\u001b[0m",
            "\u001b[0;31mTypeError\u001b[0m: 'str' object is not an iterator"
          ]
        }
      ]
    },
    {
      "cell_type": "markdown",
      "source": [
        " 12. (5б). Опишіть своїми словами в одному реченні, як ви розумієте різницю між ітерабельними обʼєктами та ітераторами (можна на прикладі)."
      ],
      "metadata": {
        "id": "XwtMEopwJ4pH"
      }
    },
    {
      "cell_type": "markdown",
      "source": [
        "Ітерабельні об'єкти, це ті, по яким можна проітеруватись, тобто рухатись до наступного в певній послідовності, типу як з рядком і списком, а ітератор це сам по собі об'єкт, який виконує ітерацію по ітерабельним об'єктам."
      ],
      "metadata": {
        "id": "-sHrODc3KFn8"
      }
    },
    {
      "cell_type": "markdown",
      "source": [
        "13. (11б). Створіть клас, що має визначений Iterator Protocol та при кожному виклику next повертає літери англійської абетки, поки вони не вичерпаються."
      ],
      "metadata": {
        "id": "E9qJWmNbK8Gl"
      }
    },
    {
      "cell_type": "code",
      "source": [
        "class lettersAlphabet:\n",
        "  def __iter__(self):\n",
        "        return self\n",
        "\n",
        "  def __init__(self):\n",
        "        self.letter = ord('a')\n",
        "\n",
        "  def __next__(self):\n",
        "        if self.letter <= ord('z'):\n",
        "            letter = chr(self.letter)\n",
        "            self.letter += 1\n",
        "            return letter\n",
        "        else:\n",
        "            raise StopIteration\n",
        "\n",
        "alph = lettersAlphabet()\n",
        "for letter in alph:\n",
        "    print(letter)\n"
      ],
      "metadata": {
        "id": "cqx-g_RsLo6I",
        "colab": {
          "base_uri": "https://localhost:8080/"
        },
        "outputId": "0ec42e25-5c45-415b-c159-b708f3a72229"
      },
      "execution_count": 52,
      "outputs": [
        {
          "output_type": "stream",
          "name": "stdout",
          "text": [
            "a\n",
            "b\n",
            "c\n",
            "d\n",
            "e\n",
            "f\n",
            "g\n",
            "h\n",
            "i\n",
            "j\n",
            "k\n",
            "l\n",
            "m\n",
            "n\n",
            "o\n",
            "p\n",
            "q\n",
            "r\n",
            "s\n",
            "t\n",
            "u\n",
            "v\n",
            "w\n",
            "x\n",
            "y\n",
            "z\n"
          ]
        }
      ]
    },
    {
      "cell_type": "markdown",
      "source": [
        "# Вітаю! Ви велика(ий) молодець, що впоралась(вся). Похваліть себе та побалуйте чимось приємним. Я Вами пишаюся."
      ],
      "metadata": {
        "id": "Z3E3S_s1Fv7-"
      }
    }
  ]
}